{
 "cells": [
  {
   "cell_type": "code",
   "execution_count": 118,
   "metadata": {},
   "outputs": [],
   "source": [
    "import os\n",
    "import numpy as np\n",
    "from scipy.sparse import csr_matrix\n",
    "from sklearn.naive_bayes import MultinomialNB\n",
    "from sklearn.model_selection import train_test_split\n",
    "from sklearn.metrics import confusion_matrix\n",
    "from sklearn import metrics\n",
    "import matplotlib.pyplot as plt\n",
    "from sklearn.metrics import roc_curve, auc\n",
    "\n",
    "def convert_to_sparse_matrix(docs):\n",
    "    indptr = [0]\n",
    "    indices = []\n",
    "    data = []\n",
    "    vocabulary = {}\n",
    "    for d in docs:\n",
    "        for term in d:\n",
    "            index = vocabulary.setdefault(term, len(vocabulary))\n",
    "            indices.append(index)\n",
    "            data.append(1)\n",
    "        indptr.append(len(indices))\n",
    "    return csr_matrix((data, indices, indptr), dtype=int)\n",
    "\n",
    "\n",
    "data_dir = 'messages'\n",
    "messages = []\n",
    "y = []\n",
    "for filename in os.listdir(data_dir):\n",
    "    with open(os.path.join(data_dir, filename)) as file:\n",
    "        subject = file.readline()\n",
    "        skip = file.readline()\n",
    "        content = file.readline()\n",
    "        messages.append(subject.split()[1:] + content.split())\n",
    "    if \"legit\" in filename:\n",
    "        y.append('legit')\n",
    "    else:\n",
    "        y.append('spam')\n",
    "\n",
    "X = convert_to_sparse_matrix(messages)\n",
    "X_train, X_test, y_train, y_test = train_test_split(X, y, test_size=0.33, random_state=42)"
   ]
  },
  {
   "cell_type": "code",
   "execution_count": 117,
   "metadata": {},
   "outputs": [
    {
     "name": "stdout",
     "output_type": "stream",
     "text": [
      "['436', '959', '478', '18877', '17589', '80', '196', '16893', '22945', '18957', '21978', '68', '4602', '15262', '1901', '70', '16893', '13765', '9723', '9257', '23699', '13406', '18957', '16502', '19322', '11058', '1967', '436', '16893', '5614', '84', '2993', '16733', '168', '168', '15556', '168', '5652', '168', '2221', '168', '23424', '168', '436', '84', '959', '168', '4658', '84', '14317', '167', '4520', '16502', '436', '84', '959', '3051', '1835', '168', '168', '6275', '168', '16427', '171', '16502', '1621', '15018', '1847', '23177', '82', '8260']\n"
     ]
    }
   ],
   "source": [
    "with open(os.path.join(data_dir, '22legit52.txt')) as file:\n",
    "    subject = file.readline()\n",
    "    skip = file.readline()\n",
    "    content = file.readline()\n",
    "\n",
    "print(subject.split()[1:]+content.split())"
   ]
  },
  {
   "cell_type": "code",
   "execution_count": 119,
   "metadata": {},
   "outputs": [
    {
     "name": "stdout",
     "output_type": "stream",
     "text": [
      "Moyenne obtenue pour la cross validation en 5-fold-cross :  0.9522935779816514\n"
     ]
    }
   ],
   "source": [
    "from sklearn.naive_bayes import MultinomialNB\n",
    "from sklearn.model_selection import cross_val_score\n",
    "\n",
    "clf = MultinomialNB()\n",
    "scores = cross_val_score(clf, X, y, cv=5)\n",
    "\n",
    "print(\"Moyenne obtenue pour la cross validation en 5-fold-cross : \", sum(scores)/len(scores), )"
   ]
  },
  {
   "cell_type": "code",
   "execution_count": 120,
   "metadata": {},
   "outputs": [],
   "source": [
    "clf = MultinomialNB().fit(X_train, y_train)\n",
    "y_pred_proba, y_pred = clf.predict_proba(X_test)[:,1], clf.predict(X_test)"
   ]
  },
  {
   "cell_type": "code",
   "execution_count": 68,
   "metadata": {},
   "outputs": [],
   "source": [
    "from sklearn.metrics import roc_curve"
   ]
  },
  {
   "cell_type": "code",
   "execution_count": 121,
   "metadata": {},
   "outputs": [],
   "source": [
    "# I use [0 if x == 'legit' else 1 for x in y] to have integers insteat of str (raises eror with roc curve) \n",
    "fpr, tpr, thresholds = metrics.roc_curve([0 if x == 'legit' else 1 for x in y_test], y_pred_proba)"
   ]
  },
  {
   "cell_type": "code",
   "execution_count": 122,
   "metadata": {},
   "outputs": [
    {
     "name": "stderr",
     "output_type": "stream",
     "text": [
      "No handles with labels found to put in legend.\n"
     ]
    },
    {
     "data": {
      "image/png": "[encoded data removed]",
      "text/plain": [
       "<Figure size 432x288 with 1 Axes>"
      ]
     },
     "metadata": {
      "needs_background": "light"
     },
     "output_type": "display_data"
    }
   ],
   "source": [
    "plt.figure()\n",
    "lw = 2\n",
    "plt.plot(fpr, tpr, color='darkorange', lw=lw)\n",
    "plt.plot([0, 1], [0, 1], color='navy', lw=lw, linestyle='--')\n",
    "plt.xlim([0.0, 1.0])\n",
    "plt.ylim([0.0, 1.05])\n",
    "plt.xlabel('False Positive Rate')\n",
    "plt.ylabel('True Positive Rate')\n",
    "plt.title('Receiver operating characteristic example')\n",
    "plt.legend(loc=\"lower right\")\n",
    "plt.show()"
   ]
  },
  {
   "cell_type": "code",
   "execution_count": 123,
   "metadata": {},
   "outputs": [
    {
     "data": {
      "text/plain": [
       "array([[188,  13],\n",
       "       [  5, 154]], dtype=int64)"
      ]
     },
     "execution_count": 123,
     "metadata": {},
     "output_type": "execute_result"
    }
   ],
   "source": [
    "from sklearn.metrics import confusion_matrix\n",
    "\n",
    "confusion_matrix(y_test, y_pred, labels = ['legit', 'spam'])"
   ]
  },
  {
   "cell_type": "code",
   "execution_count": 124,
   "metadata": {},
   "outputs": [
    {
     "name": "stdout",
     "output_type": "stream",
     "text": [
      "[2.00000000e+000 1.00000000e+000 1.00000000e+000 1.00000000e+000\n",
      " 9.99999999e-001 9.99999996e-001 9.99999802e-001 9.99999577e-001\n",
      " 9.99998315e-001 9.99997396e-001 9.99958911e-001 9.65904995e-001\n",
      " 1.41463687e-002 1.09027478e-002 4.52582411e-003 1.49650909e-005\n",
      " 6.50079199e-006 5.68080506e-009 3.55553073e-009 1.77678854e-010\n",
      " 2.25104327e-011 1.54778367e-306 0.00000000e+000]\n"
     ]
    }
   ],
   "source": [
    "print(thresholds)"
   ]
  },
  {
   "cell_type": "code",
   "execution_count": 134,
   "metadata": {},
   "outputs": [
    {
     "data": {
      "text/plain": [
       "array([[201,   0],\n",
       "       [ 74,  85]], dtype=int64)"
      ]
     },
     "execution_count": 134,
     "metadata": {},
     "output_type": "execute_result"
    }
   ],
   "source": [
    "clf = MultinomialNB(class_prior = [1-1.0e-70, 1.0e-70]).fit(X_train, y_train)\n",
    "y_pred = clf.predict(X_test)\n",
    "\n",
    "confusion_matrix(y_test, y_pred, labels = ['legit', 'spam'])"
   ]
  },
  {
   "cell_type": "markdown",
   "metadata": {},
   "source": [
    "without subject, good prior is 1.0e-72. We have 80 fn."
   ]
  },
  {
   "cell_type": "code",
   "execution_count": 107,
   "metadata": {},
   "outputs": [
    {
     "name": "stdout",
     "output_type": "stream",
     "text": [
      "0\n"
     ]
    }
   ],
   "source": [
    "val = 0\n",
    "for i in range(len(y_test)):\n",
    "    if y_test[i] == 'legit' and y_pred[i] =='spam':\n",
    "        val += 1\n",
    "print(val)"
   ]
  },
  {
   "cell_type": "code",
   "execution_count": 147,
   "metadata": {},
   "outputs": [
    {
     "name": "stdout",
     "output_type": "stream",
     "text": [
      "2264\n"
     ]
    }
   ],
   "source": [
    "print(len(np.asarray(messages)[]))"
   ]
  },
  {
   "cell_type": "code",
   "execution_count": 148,
   "metadata": {},
   "outputs": [],
   "source": [
    "def convert_to_sparse_matrix(docs):\n",
    "    indptr = [0]\n",
    "    indices = []\n",
    "    data = []\n",
    "    vocabulary = {}\n",
    "    for d in docs:\n",
    "        for i in range(len(d)-1):\n",
    "            index = vocabulary.setdefault(d[i] + ' ' + d[i+1], len(vocabulary))\n",
    "            indices.append(index)\n",
    "            data.append(1)\n",
    "        indptr.append(len(indices))\n",
    "    return csr_matrix((data, indices, indptr), dtype=int)\n",
    "\n",
    "\n",
    "data_dir = 'messages'\n",
    "messages = []\n",
    "y = []\n",
    "for filename in os.listdir(data_dir):\n",
    "    with open(os.path.join(data_dir, filename)) as file:\n",
    "        subject = file.readline()\n",
    "        skip = file.readline()\n",
    "        content = file.readline()\n",
    "        messages.append(subject.split()[1:] + content.split())\n",
    "    if \"legit\" in filename:\n",
    "        y.append('legit')\n",
    "    else:\n",
    "        y.append('spam')\n",
    "\n",
    "X = convert_to_sparse_matrix(messages)\n",
    "X_train, X_test, y_train, y_test = train_test_split(X, y, test_size=0.33, random_state=42)"
   ]
  },
  {
   "cell_type": "code",
   "execution_count": 149,
   "metadata": {},
   "outputs": [
    {
     "name": "stdout",
     "output_type": "stream",
     "text": [
      "Moyenne obtenue pour la cross validation en 5-fold-cross :  0.9605504587155963\n"
     ]
    }
   ],
   "source": [
    "from sklearn.naive_bayes import MultinomialNB\n",
    "from sklearn.model_selection import cross_val_score\n",
    "\n",
    "clf = MultinomialNB()\n",
    "scores = cross_val_score(clf, X, y, cv=5)\n",
    "\n",
    "print(\"Moyenne obtenue pour la cross validation en 5-fold-cross : \", sum(scores)/len(scores), )"
   ]
  },
  {
   "cell_type": "code",
   "execution_count": 150,
   "metadata": {},
   "outputs": [
    {
     "name": "stderr",
     "output_type": "stream",
     "text": [
      "No handles with labels found to put in legend.\n"
     ]
    },
    {
     "data": {
      "image/png": "[encoded data removed]",
      "text/plain": [
       "<Figure size 432x288 with 1 Axes>"
      ]
     },
     "metadata": {
      "needs_background": "light"
     },
     "output_type": "display_data"
    }
   ],
   "source": [
    "clf = MultinomialNB().fit(X_train, y_train)\n",
    "y_pred_proba, y_pred = clf.predict_proba(X_test)[:,1], clf.predict(X_test)\n",
    "\n",
    "fpr, tpr, thresholds = metrics.roc_curve([0 if x == 'legit' else 1 for x in y_test], y_pred_proba)\n",
    "\n",
    "plt.figure()\n",
    "lw = 2\n",
    "plt.plot(fpr, tpr, color='darkorange', lw=lw)\n",
    "plt.plot([0, 1], [0, 1], color='navy', lw=lw, linestyle='--')\n",
    "plt.xlim([0.0, 1.0])\n",
    "plt.ylim([0.0, 1.05])\n",
    "plt.xlabel('False Positive Rate')\n",
    "plt.ylabel('True Positive Rate')\n",
    "plt.title('Receiver operating characteristic example')\n",
    "plt.legend(loc=\"lower right\")\n",
    "plt.show()"
   ]
  },
  {
   "cell_type": "code",
   "execution_count": 162,
   "metadata": {},
   "outputs": [
    {
     "data": {
      "text/plain": [
       "array([[201,   0],\n",
       "       [ 68,  91]], dtype=int64)"
      ]
     },
     "execution_count": 162,
     "metadata": {},
     "output_type": "execute_result"
    }
   ],
   "source": [
    "clf = MultinomialNB(class_prior = [1-1.0e-85, 1.0e-85]).fit(X_train, y_train)\n",
    "y_pred = clf.predict(X_test)\n",
    "\n",
    "confusion_matrix(y_test, y_pred, labels = ['legit', 'spam'])"
   ]
  },
  {
   "cell_type": "code",
   "execution_count": null,
   "metadata": {},
   "outputs": [],
   "source": []
  }
 ],
 "metadata": {
  "kernelspec": {
   "display_name": "Python 3",
   "language": "python",
   "name": "python3"
  },
  "language_info": {
   "codemirror_mode": {
    "name": "ipython",
    "version": 3
   },
   "file_extension": ".py",
   "mimetype": "text/x-python",
   "name": "python",
   "nbconvert_exporter": "python",
   "pygments_lexer": "ipython3",
   "version": "3.7.3"
  }
 },
 "nbformat": 4,
 "nbformat_minor": 2
}
