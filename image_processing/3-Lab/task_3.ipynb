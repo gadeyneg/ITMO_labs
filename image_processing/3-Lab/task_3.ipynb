{
 "cells": [
  {
   "cell_type": "markdown",
   "metadata": {},
   "source": [
    "Run with tf_gpu kernel and env"
   ]
  },
  {
   "cell_type": "code",
   "execution_count": 1,
   "metadata": {},
   "outputs": [],
   "source": [
    "import tensorflow\n",
    "from tensorflow.keras import layers, models\n",
    "\n",
    "from matplotlib import pyplot as plt\n",
    "import pickle\n",
    "import numpy as np"
   ]
  },
  {
   "cell_type": "code",
   "execution_count": 2,
   "metadata": {},
   "outputs": [
    {
     "name": "stdout",
     "output_type": "stream",
     "text": [
      "(600, 186, 250, 3)\n",
      "(600, 186, 250, 3)\n"
     ]
    }
   ],
   "source": [
    "with open('features', 'rb') as pickle_file:\n",
    "    files = pickle.load(pickle_file)\n",
    "    pickle_file.close()\n",
    "first_run = False\n",
    "X_train = files/255.0\n",
    "    \n",
    "with open('features_test', 'rb') as pickle_file:\n",
    "    files = pickle.load(pickle_file)\n",
    "    pickle_file.close()\n",
    "X_test = files/255.0\n",
    "\n",
    "files = 0\n",
    "\n",
    "print(X_train.shape)\n",
    "print(X_test.shape)"
   ]
  },
  {
   "cell_type": "code",
   "execution_count": 3,
   "metadata": {},
   "outputs": [],
   "source": [
    "Y_train = np.asarray([(1, 0, 0)]*200 + [(0, 1, 0)]*200 + [(0, 0, 1)]*200)\n",
    "Y_test = np.asarray([(1, 0, 0)]*200 + [(0, 1, 0)]*200 + [(0, 0, 1)]*200)"
   ]
  },
  {
   "cell_type": "code",
   "execution_count": 4,
   "metadata": {},
   "outputs": [],
   "source": [
    "model = models.Sequential()\n",
    "model.add(layers.Conv2D(64, (3, 3), activation='relu', input_shape=X_train.shape[1:]))\n",
    "model.add(layers.MaxPooling2D((2, 2)))\n",
    "\n",
    "model.add(layers.Conv2D(64, (3, 3), activation='relu'))\n",
    "model.add(layers.MaxPooling2D((2, 2)))\n",
    "\n",
    "model.add(layers.Conv2D(32, (3, 3), activation='relu'))\n",
    "\n",
    "model.add(layers.Flatten())\n",
    "model.add(layers.Dense(64, activation='sigmoid'))\n",
    "\n",
    "model.add(layers.Dense(3, activation='softmax'))\n",
    "\n",
    "model.compile(optimizer='adam',\n",
    "              loss='categorical_crossentropy',\n",
    "              metrics=['accuracy'])"
   ]
  },
  {
   "cell_type": "code",
   "execution_count": 5,
   "metadata": {},
   "outputs": [
    {
     "name": "stdout",
     "output_type": "stream",
     "text": [
      "Train on 600 samples, validate on 600 samples\n",
      "Epoch 1/10\n",
      "600/600 [==============================] - 29s 48ms/sample - loss: 0.7568 - accuracy: 0.6500 - val_loss: 0.5355 - val_accuracy: 0.7583\n",
      "Epoch 2/10\n",
      "600/600 [==============================] - 5s 8ms/sample - loss: 0.3068 - accuracy: 0.8900 - val_loss: 0.2886 - val_accuracy: 0.9000\n",
      "Epoch 3/10\n",
      "600/600 [==============================] - 5s 8ms/sample - loss: 0.2044 - accuracy: 0.9367 - val_loss: 0.2508 - val_accuracy: 0.9100\n",
      "Epoch 4/10\n",
      "600/600 [==============================] - 5s 8ms/sample - loss: 0.1387 - accuracy: 0.9550 - val_loss: 0.2402 - val_accuracy: 0.9267\n",
      "Epoch 5/10\n",
      "600/600 [==============================] - 5s 8ms/sample - loss: 0.0975 - accuracy: 0.9650 - val_loss: 0.1819 - val_accuracy: 0.9400\n",
      "Epoch 6/10\n",
      "600/600 [==============================] - 5s 8ms/sample - loss: 0.0583 - accuracy: 0.9917 - val_loss: 0.2081 - val_accuracy: 0.9267\n",
      "Epoch 7/10\n",
      "600/600 [==============================] - 5s 8ms/sample - loss: 0.0330 - accuracy: 0.9933 - val_loss: 0.1894 - val_accuracy: 0.9367\n",
      "Epoch 8/10\n",
      "600/600 [==============================] - 5s 8ms/sample - loss: 0.0179 - accuracy: 0.9983 - val_loss: 0.1947 - val_accuracy: 0.9400\n",
      "Epoch 9/10\n",
      "600/600 [==============================] - 9s 15ms/sample - loss: 0.0128 - accuracy: 0.9983 - val_loss: 0.2096 - val_accuracy: 0.9383\n",
      "Epoch 10/10\n",
      "600/600 [==============================] - 12s 20ms/sample - loss: 0.0096 - accuracy: 0.9983 - val_loss: 0.2131 - val_accuracy: 0.9350\n"
     ]
    }
   ],
   "source": [
    "history = model.fit(X_train, Y_train, epochs=10, batch_size = 20, validation_data=(X_test, Y_test))"
   ]
  },
  {
   "cell_type": "code",
   "execution_count": 6,
   "metadata": {},
   "outputs": [
    {
     "name": "stdout",
     "output_type": "stream",
     "text": [
      "600/1 - 2s - loss: 0.1694 - accuracy: 0.9350\n"
     ]
    },
    {
     "data": {
      "image/png": "[encoded data removed]",
      "text/plain": [
       "<Figure size 432x288 with 1 Axes>"
      ]
     },
     "metadata": {
      "needs_background": "light"
     },
     "output_type": "display_data"
    }
   ],
   "source": [
    "plt.plot(history.history['accuracy'], label='accuracy')\n",
    "plt.plot(history.history['val_accuracy'], label = 'val_accuracy')\n",
    "plt.xlabel('Epoch')\n",
    "plt.ylabel('Accuracy')\n",
    "plt.ylim([0, 1])\n",
    "plt.legend(loc='lower right')\n",
    "\n",
    "test_loss, test_acc = model.evaluate(X_test,  Y_test, verbose=2)"
   ]
  },
  {
   "cell_type": "code",
   "execution_count": null,
   "metadata": {},
   "outputs": [],
   "source": [
    "from __future__ import absolute_import, division, print_function, unicode_literals\n",
    "\n",
    "import tensorflow as tf\n",
    "\n",
    "from tensorflow.keras import datasets, layers, models\n",
    "import matplotlib.pyplot as plt"
   ]
  },
  {
   "cell_type": "code",
   "execution_count": null,
   "metadata": {},
   "outputs": [],
   "source": [
    "(train_images, train_labels), (test_images, test_labels) = datasets.cifar10.load_data()\n",
    "\n",
    "# Normalize pixel values to be between 0 and 1\n",
    "train_images, test_images = train_images / 255.0, test_images / 255.0"
   ]
  },
  {
   "cell_type": "code",
   "execution_count": null,
   "metadata": {},
   "outputs": [],
   "source": [
    "print(train_images.shape)\n",
    "print(test_images.shape)"
   ]
  },
  {
   "cell_type": "code",
   "execution_count": null,
   "metadata": {},
   "outputs": [],
   "source": [
    "model = models.Sequential()\n",
    "model.add(layers.Conv2D(128, (3, 3), activation='relu', input_shape=(186, 250, 3)))\n",
    "model.add(layers.MaxPooling2D((2, 2)))\n",
    "model.add(layers.Conv2D(64, (3, 3), activation='relu'))\n",
    "model.add(layers.MaxPooling2D((2, 2)))\n",
    "model.add(layers.Conv2D(32, (3, 3), activation='relu'))\n",
    "\n",
    "model.add(layers.Flatten())\n",
    "model.add(layers.Dense(64, activation='relu'))\n",
    "model.add(layers.Dense(3, activation='softmax'))"
   ]
  },
  {
   "cell_type": "code",
   "execution_count": null,
   "metadata": {},
   "outputs": [],
   "source": [
    "model.compile(optimizer='adam',\n",
    "              loss='sparse_categorical_crossentropy',\n",
    "              metrics=['accuracy'])\n",
    "\n",
    "history = model.fit(X_train, Y_train, epochs=10, validation_data=(X_test, Y_test))"
   ]
  }
 ],
 "metadata": {
  "kernelspec": {
   "display_name": "tf_gpu",
   "language": "python",
   "name": "tf_gpu"
  },
  "language_info": {
   "codemirror_mode": {
    "name": "ipython",
    "version": 3
   },
   "file_extension": ".py",
   "mimetype": "text/x-python",
   "name": "python",
   "nbconvert_exporter": "python",
   "pygments_lexer": "ipython3",
   "version": "3.7.5"
  }
 },
 "nbformat": 4,
 "nbformat_minor": 2
}
