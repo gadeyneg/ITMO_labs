{
 "cells": [
  {
   "cell_type": "code",
   "execution_count": 2,
   "metadata": {},
   "outputs": [],
   "source": [
    "import numpy as np\n",
    "from scipy.ndimage.filters import gaussian_filter\n",
    "import cv2\n",
    "from matplotlib import pyplot as plt"
   ]
  },
  {
   "cell_type": "code",
   "execution_count": 31,
   "metadata": {},
   "outputs": [
    {
     "data": {
      "text/plain": [
       "<matplotlib.image.AxesImage at 0x2c8221fd978>"
      ]
     },
     "execution_count": 31,
     "metadata": {},
     "output_type": "execute_result"
    },
    {
     "data": {
      "image/png": "[encoded data removed]",
      "text/plain": [
       "<Figure size 432x288 with 1 Axes>"
      ]
     },
     "metadata": {
      "needs_background": "light"
     },
     "output_type": "display_data"
    }
   ],
   "source": [
    "im1 = cv2.imread(\"pic/Pisces.bmp\")\n",
    "\n",
    "plt.imshow(im1)"
   ]
  },
  {
   "cell_type": "markdown",
   "metadata": {},
   "source": [
    "Now, we will convert the values : [255 2255 255] is white, so 0, and [1 1 1] is black, so 1. This part isn't necessary, but it make sit easier to understand what we are doing."
   ]
  },
  {
   "cell_type": "code",
   "execution_count": 32,
   "metadata": {},
   "outputs": [],
   "source": [
    "def convert_binary(image):\n",
    "    white = np.array([255, 255, 255])\n",
    "    res = list([[0 for i in range(len(image))] for j in range(len(image[0]))])\n",
    "    for i in range(len(image)):\n",
    "        for j in range(len(image[0])):\n",
    "            if np.allclose(image[i][j], white):\n",
    "                res[i][j] = 0\n",
    "            else:\n",
    "                res[i][j] = 1\n",
    "    return(res)"
   ]
  },
  {
   "cell_type": "code",
   "execution_count": 33,
   "metadata": {},
   "outputs": [
    {
     "name": "stdout",
     "output_type": "stream",
     "text": [
      "[[2.  2.  1.  0.5 0.  0.  0.  0.5 1.5 2. ]\n",
      " [2.  3.  2.  1.  0.  0.  0.5 1.5 3.  2.5]\n",
      " [1.  2.5 3.  2.  0.5 0.  1.  2.5 3.  1.5]\n",
      " [0.  1.  2.5 2.5 1.  0.  1.5 2.5 2.  0.5]\n",
      " [0.5 1.5 3.  3.5 2.5 1.5 2.5 3.  2.5 1. ]\n",
      " [0.5 1.5 3.  3.  3.  2.  3.  3.5 3.5 2. ]\n",
      " [0.5 1.5 2.5 3.  2.  1.5 2.  3.5 3.5 2. ]\n",
      " [0.5 1.5 2.5 1.5 0.5 0.  0.5 2.  3.  2. ]\n",
      " [1.5 3.  2.5 1.  0.  0.  0.  1.  2.5 2.5]\n",
      " [2.  2.5 1.5 0.5 0.  0.  0.  0.5 1.5 2. ]]\n",
      "(10, 10)\n"
     ]
    }
   ],
   "source": [
    "def get_potential(image, n, conv_bin = True):\n",
    "    if conv_bin :\n",
    "        image = convert_binary(image)\n",
    "    height, width = len(image), len(image[0])\n",
    "    res = np.zeros((height, width))\n",
    "    for i in range(height):\n",
    "        for j in range(width):\n",
    "            # here we will modifie the value of res[i][j]\n",
    "            for u in range(-n, n+1):\n",
    "                for v in range(-n, n+1):\n",
    "                    # deal with values out of bounds\n",
    "                    try:\n",
    "                        val = image[i+u][j+v]\n",
    "                    except:\n",
    "                        val = 0\n",
    "                    # python accepts negativ values and deals with it but it's not what we want\n",
    "                    if i+u<0 or j+v < 0:\n",
    "                        val = 0\n",
    "                    if u == 0 and v == 0:\n",
    "                        res[i,j] += val\n",
    "                    else:\n",
    "                        res[i,j] += val/2\n",
    "    return(res)\n",
    "\n",
    "print(get_potential(im1, 1))\n",
    "print(im1.shape[:2])"
   ]
  },
  {
   "cell_type": "markdown",
   "metadata": {},
   "source": [
    "Finaly, we can make the picture comparison function and test it"
   ]
  },
  {
   "cell_type": "code",
   "execution_count": 39,
   "metadata": {},
   "outputs": [
    {
     "name": "stdout",
     "output_type": "stream",
     "text": [
      "test image1 : the distance is 1066.5\n",
      "test image2 : the distance is 1343.0\n",
      "test image3 : the distance is 2147.0\n"
     ]
    }
   ],
   "source": [
    "def compare(im1, im2, pot_function = get_potential, n = 3):\n",
    "    if im1.shape != im2.shape:\n",
    "        im2 = cv2.resize(im2, dsize=im1.shape[:2], interpolation=cv2.INTER_CUBIC)\n",
    "    pot1 = pot_function(im1, n)\n",
    "    pot2 = pot_function(im2, n)\n",
    "    return(np.sum(np.square(pot1 - pot2)))\n",
    "\n",
    "tests = [cv2.imread(\"pic/test\" + str(i) + \".bmp\") for i in range(1,4)]\n",
    "\n",
    "for i in range(len(tests)):\n",
    "    print(\"test image\" + str(i+1) + \" : the distance is \" + str(compare(im1, tests[i])))"
   ]
  },
  {
   "cell_type": "markdown",
   "metadata": {},
   "source": [
    "The lowest distance is obtained for \"test1.bmp\", which is the expected result"
   ]
  },
  {
   "cell_type": "code",
   "execution_count": 45,
   "metadata": {},
   "outputs": [
    {
     "data": {
      "image/png": "[encoded data removed]",
      "text/plain": [
       "<Figure size 432x288 with 1 Axes>"
      ]
     },
     "metadata": {
      "needs_background": "light"
     },
     "output_type": "display_data"
    },
    {
     "data": {
      "text/plain": [
       "<matplotlib.image.AxesImage at 0x2c822575710>"
      ]
     },
     "execution_count": 45,
     "metadata": {},
     "output_type": "execute_result"
    },
    {
     "data": {
      "image/png": "[encoded data removed]",
      "text/plain": [
       "<Figure size 432x288 with 1 Axes>"
      ]
     },
     "metadata": {
      "needs_background": "light"
     },
     "output_type": "display_data"
    }
   ],
   "source": [
    "plt.imshow(im1)\n",
    "plt.show()\n",
    "plt.imshow(tests[0])"
   ]
  }
 ],
 "metadata": {
  "kernelspec": {
   "display_name": "Python 3",
   "language": "python",
   "name": "python3"
  },
  "language_info": {
   "codemirror_mode": {
    "name": "ipython",
    "version": 3
   },
   "file_extension": ".py",
   "mimetype": "text/x-python",
   "name": "python",
   "nbconvert_exporter": "python",
   "pygments_lexer": "ipython3",
   "version": "3.7.5"
  }
 },
 "nbformat": 4,
 "nbformat_minor": 2
}
