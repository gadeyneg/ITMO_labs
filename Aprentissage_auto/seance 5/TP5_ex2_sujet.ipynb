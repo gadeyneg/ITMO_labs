{
 "cells": [
  {
   "cell_type": "markdown",
   "metadata": {},
   "source": [
    "# Introduction à l'apprentissage automatique - TP5 exercice 2\n",
    "\n",
    "### SVM sur données réelles\n",
    "\n",
    "<br> \n",
    "\n",
    "On considère les jeux de données utilisés en [TP4, exercice 2](https://members.loria.fr/FSur/enseignement/apprauto/TP4_ex2_sujet.html). Vous séparerez les données en une base d'apprentissage que vous utiliserez pour fixer les hyperparamètres et pour l'apprentissage proprement dit, et une base de test. (Pour `digits`, utilisez 50% des données dans la base d'apprentissage, et 80% pour les deux autres jeux de données).\n",
    "\n",
    "<br>\n",
    "\n",
    "Mettez en oeuvre la classification par une SVM dont vous aurez fixé les hyperparamètres de manière optimale, et comparez aux classifieurs de l'exercice 2 du TP 4.\n",
    "\n",
    "Vous comparerez les scores de classification avec et sans normalisation.\n"
   ]
  },
  {
   "cell_type": "code",
   "execution_count": null,
   "metadata": {},
   "outputs": [],
   "source": [
    "# votre code ici\n"
   ]
  }
 ],
 "metadata": {
  "kernelspec": {
   "display_name": "Python 3",
   "language": "python",
   "name": "python3"
  },
  "language_info": {
   "codemirror_mode": {
    "name": "ipython",
    "version": 3
   },
   "file_extension": ".py",
   "mimetype": "text/x-python",
   "name": "python",
   "nbconvert_exporter": "python",
   "pygments_lexer": "ipython3",
   "version": "3.7.3"
  }
 },
 "nbformat": 4,
 "nbformat_minor": 2
}
