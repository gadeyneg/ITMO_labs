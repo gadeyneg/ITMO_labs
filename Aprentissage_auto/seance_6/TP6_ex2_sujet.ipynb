{
 "cells": [
  {
   "cell_type": "markdown",
   "metadata": {},
   "source": [
    "# Introduction à l'apprentissage automatique - TP6 exercice 2\n",
    "\n",
    "<br>\n",
    "\n",
    "Les données de cet exercice sont adaptées de:\n",
    "\n",
    "A. Tsanas, A. Xifara, _Accurate quantitative estimation of energy performance of residential buildings using statistical machine learning tools_, Energy and Buildings, Vol. 49, pp. 560-567, 2012.\n",
    "\n",
    "Il s'agit des données utilisées dans la partie pratique de l'examen 2018.\n",
    "\n",
    "<br>\n",
    "\n",
    "Chargez le [fichier de données](https://members.loria.fr/FSur/enseignement/apprauto/ENB2012_test.csv).\n",
    "\n",
    "<br>\n",
    "\n",
    "Chaque observation contient des données relatives à un bâtiment:\n",
    "* colonne 1: indicateur de compacité du bâtiment (entre 0 et 1)\n",
    "* colonne 2: superficie des sols\n",
    "* colonne 3: superficie des murs\n",
    "* colonne 4: superficie des toitures\n",
    "* colonne 5: hauteur du bâtiment\n",
    "* colonne 6: charges de chauffage, note entière allant de  0 (charges faibles) à 3 (charges élevées).\n",
    "\n",
    "<br>\n",
    "\n",
    "Le but est de prédire la note des charges de chauffage en fonction des autres paramètres. Il s'agit d'un problème de classification supervisée à quatre classes.\n",
    "\n",
    "<br>\n",
    "\n",
    "La cellule suivante permet de charger les données, et de les normaliser."
   ]
  },
  {
   "cell_type": "code",
   "execution_count": null,
   "metadata": {},
   "outputs": [],
   "source": [
    "from sklearn import preprocessing, neighbors, model_selection, linear_model, neural_network, svm, metrics\n",
    "import numpy as np\n",
    "\n",
    "data=np.loadtxt('ENB2012_test.csv',delimiter=';')\n",
    "X=data[:,0:5]\n",
    "Y=data[:,5]\n",
    "\n",
    "X_train, X_test, Y_train, Y_test = model_selection.train_test_split(X,Y,test_size=.5)\n",
    "\n",
    "X_test_n=preprocessing.StandardScaler(copy=False).fit(X_train).transform(X_test)\n",
    "X_train_n=preprocessing.StandardScaler(copy=False).fit_transform(X_train)\n"
   ]
  },
  {
   "cell_type": "markdown",
   "metadata": {},
   "source": [
    "<br>\n",
    "\n",
    "Proposez un classifieur permettant de prédire les charges en fonctions des différents paramètres. Vous justifierez votre choix.\n",
    "\n",
    "<br>"
   ]
  },
  {
   "cell_type": "code",
   "execution_count": null,
   "metadata": {},
   "outputs": [],
   "source": [
    "# votre code ici\n"
   ]
  }
 ],
 "metadata": {
  "kernelspec": {
   "display_name": "Python 3",
   "language": "python",
   "name": "python3"
  },
  "language_info": {
   "codemirror_mode": {
    "name": "ipython",
    "version": 3
   },
   "file_extension": ".py",
   "mimetype": "text/x-python",
   "name": "python",
   "nbconvert_exporter": "python",
   "pygments_lexer": "ipython3",
   "version": "3.7.3"
  }
 },
 "nbformat": 4,
 "nbformat_minor": 2
}
