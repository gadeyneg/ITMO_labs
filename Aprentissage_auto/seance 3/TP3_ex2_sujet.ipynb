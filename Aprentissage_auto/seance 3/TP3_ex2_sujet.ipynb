{
 "cells": [
  {
   "cell_type": "markdown",
   "metadata": {},
   "source": [
    "# Introduction à l'apprentissage automatique - TP3 exercice 2\n",
    "\n",
    "### Classification supervisée sur données réelles, et sélection de modèle par validation croisée\n",
    "\n",
    "<br>\n",
    "\n",
    "\n",
    "On commence par charger quelques bibliothèques..."
   ]
  },
  {
   "cell_type": "code",
   "execution_count": 2,
   "metadata": {},
   "outputs": [],
   "source": [
    "from sklearn import datasets, neighbors, naive_bayes, linear_model, model_selection\n",
    "import numpy as np\n",
    "import matplotlib.pyplot as plt\n",
    "import pandas as pd\n",
    "\n",
    "# pour ignorer les \"warnings\" concernant les modifications futures\n",
    "# (pour régression logistique et perceptron)\n",
    "from warnings import simplefilter\n",
    "simplefilter(action='ignore', category=FutureWarning)\n",
    "\n",
    "%matplotlib inline"
   ]
  },
  {
   "cell_type": "markdown",
   "metadata": {},
   "source": [
    "...puis on charge le jeu de données `digits` comme à la séance 2:"
   ]
  },
  {
   "cell_type": "code",
   "execution_count": 3,
   "metadata": {},
   "outputs": [],
   "source": [
    "dataset = datasets.load_digits()\n",
    "X_dataset = dataset.data\n",
    "y_dataset = dataset.target"
   ]
  },
  {
   "cell_type": "markdown",
   "metadata": {},
   "source": [
    "Bien entendu, quand on s'intéresse à un \"vrai\" problème de classification supervisée, on ne connaît pas les classes auxquelles les observations-tests appartiennent.\n",
    "\n",
    "Pour mesurer la performance des différents algorithmes, on va séparer artificiellement le jeu de données en base d'apprentissage et base de test, et on pourra comparer le résultat de classification des observations-tests aux vraies classes.\n",
    "\n",
    "On sépare aléatoirement le jeu de données en base d'apprentissage et base de\n",
    "  test (20\\% des observations), ainsi:"
   ]
  },
  {
   "cell_type": "code",
   "execution_count": 19,
   "metadata": {},
   "outputs": [],
   "source": [
    "x_train, x_test, y_train, y_test = model_selection.train_test_split(X_dataset,y_dataset,test_size=.2)"
   ]
  },
  {
   "cell_type": "markdown",
   "metadata": {},
   "source": [
    "Calculez les scores de classification de la base de test pour les algorithmes 1-PPV, 5-PPV, 10-PPV, naive Bayes, régression logistique (c'est une révision de l'exercice 1 de la séance 2), et perceptron.\n",
    "\n",
    "Constatez que les scores varient si vous ré-exécutez le code de la cellule précédente, la base de test étant choisie aléatoirement."
   ]
  },
  {
   "cell_type": "code",
   "execution_count": 18,
   "metadata": {},
   "outputs": [
    {
     "name": "stdout",
     "output_type": "stream",
     "text": [
      "Moyenne 1-NN 0.9761493860252022\n",
      "Moyenne logistic regression 0.9310298346839012\n",
      "Moyenne perc 0.9166165711283545\n"
     ]
    },
    {
     "data": {
      "image/png": "[encoded data removed]",
      "text/plain": [
       "<Figure size 432x288 with 1 Axes>"
      ]
     },
     "metadata": {
      "needs_background": "light"
     },
     "output_type": "display_data"
    }
   ],
   "source": [
    "\n",
    "NN = neighbors.KNeighborsClassifier(n_neighbors=1)    \n",
    "scores_1 = model_selection.cross_val_score(NN, dataset.data, dataset.target, cv=10)\n",
    "print(\"Moyenne 1-NN\", sum(scores_1)/len(scores_1) )\n",
    "\n",
    "\n",
    "print(metrics.confusion_matrix(y_test,y_pred_nn))\n",
    "\n",
    "clf = linear_model.LogisticRegression(solver='liblinear')   \n",
    "scores_2 = model_selection.cross_val_score(clf, dataset.data, dataset.target, cv=10)\n",
    "print(\"Moyenne logistic regression\", sum(scores_2)/len(scores_2) )\n",
    "\n",
    "perc = linear_model.Perceptron(max_iter=200)   \n",
    "scores_3 = model_selection.cross_val_score(perc, dataset.data, dataset.target, cv=10)\n",
    "print(\"Moyenne perc\", sum(scores_3)/len(scores_3) )\n",
    "\n",
    "# print(\"Moyenne 1-NN %.2f\" % sum(scores)/len(scores) )"
   ]
  },
  {
   "cell_type": "markdown",
   "metadata": {},
   "source": [
    "Comparez les méthodes au sens de la validation croisée à _K_ plis (_K-fold cross validation_), pour $K=10$.\n",
    "\n",
    "Affichez la matrice de confusion du \"meilleur\" algorithme lorsque vous séparez base d'apprentissage et base de test dans la base de donnée initiale (avec respectivement 80% et 20% des observations initiales).\n",
    "\n",
    "_Rappel_: revoyez le TP 2."
   ]
  },
  {
   "cell_type": "code",
   "execution_count": 25,
   "metadata": {},
   "outputs": [
    {
     "name": "stdout",
     "output_type": "stream",
     "text": [
      "Plus proches voisins :\n",
      "\n",
      "[[46  0  0  0  0  0  0  0  0  0]\n",
      " [ 0 40  0  0  0  0  0  0  0  0]\n",
      " [ 0  0 32  0  0  0  0  1  0  0]\n",
      " [ 0  0  0 34  0  0  0  0  0  0]\n",
      " [ 0  0  0  0 34  0  0  0  0  0]\n",
      " [ 0  0  0  0  0 30  1  0  0  0]\n",
      " [ 0  0  0  0  0  0 39  0  0  0]\n",
      " [ 0  0  0  0  0  0  0 34  0  0]\n",
      " [ 0  1  0  0  0  0  0  0 30  0]\n",
      " [ 0  1  0  0  0  0  0  0  0 37]]\n",
      "\n",
      "Logistic regression :\n",
      "\n",
      "[[45  0  0  0  0  1  0  0  0  0]\n",
      " [ 0 38  0  1  0  0  1  0  0  0]\n",
      " [ 0  0 32  1  0  0  0  0  0  0]\n",
      " [ 0  0  0 34  0  0  0  0  0  0]\n",
      " [ 0  1  0  0 33  0  0  0  0  0]\n",
      " [ 0  0  0  0  0 29  1  1  0  0]\n",
      " [ 0  1  0  0  0  0 38  0  0  0]\n",
      " [ 0  0  0  0  0  0  0 33  0  1]\n",
      " [ 0  2  0  2  0  0  0  0 26  1]\n",
      " [ 0  0  0  0  0  0  0  0  0 38]]\n",
      "\n",
      "perceptron :\n",
      "\n",
      "[[46  0  0  0  0  0  0  0  0  0]\n",
      " [ 0 40  0  0  0  0  0  0  0  0]\n",
      " [ 0  0 32  0  0  0  0  1  0  0]\n",
      " [ 0  0  0 34  0  0  0  0  0  0]\n",
      " [ 0  0  0  0 34  0  0  0  0  0]\n",
      " [ 0  0  0  0  0 30  1  0  0  0]\n",
      " [ 0  0  0  0  0  0 39  0  0  0]\n",
      " [ 0  0  0  0  0  0  0 34  0  0]\n",
      " [ 0  1  0  0  0  0  0  0 30  0]\n",
      " [ 0  1  0  0  0  0  0  0  0 37]]\n"
     ]
    }
   ],
   "source": [
    "from sklearn import metrics\n",
    "\n",
    "x_train, x_test, y_train, y_test = model_selection.train_test_split(X_dataset,y_dataset,test_size=.2)\n",
    "\n",
    "NN = neighbors.KNeighborsClassifier(n_neighbors=1)\n",
    "NN.fit(x_train, y_train)\n",
    "y_pred_NN = NN.predict(x_test)\n",
    "\n",
    "print(\"Plus proches voisins :\\n\")\n",
    "print(metrics.confusion_matrix(y_test,y_pred_NN))\n",
    "\n",
    "clf = linear_model.LogisticRegression(solver='liblinear')   \n",
    "clf.fit(x_train, y_train)\n",
    "y_pred_clf = clf.predict(x_test)\n",
    "\n",
    "print(\"\\nLogistic regression :\\n\")\n",
    "print(metrics.confusion_matrix(y_test,y_pred_clf))\n",
    "\n",
    "perc = linear_model.Perceptron(max_iter=200)\n",
    "perc.fit(x_train, y_train)\n",
    "y_pred_perc = NN.predict(x_test)\n",
    "\n",
    "print(\"\\nPerceptron :\\n\")\n",
    "print(metrics.confusion_matrix(y_test,y_pred_perc))\n"
   ]
  },
  {
   "cell_type": "markdown",
   "metadata": {},
   "source": [
    "\n",
    "<br>\n",
    "\n",
    "Identifiez les meilleurs classifieurs dans les deux cas suivants:\n",
    "\n",
    "* Breast-Cancer décrite [ici](https://scikit-learn.org/stable/datasets/index.html#breast-cancer-dataset).\n",
    "\n",
    "et qui est fournie dans SKLearn:\n",
    "``` python\n",
    "dataset = datasets.load_breast_cancer() \n",
    "```\n",
    "\n",
    "* _South African Heart Disease_ décrite [ici](https://web.stanford.edu/~hastie/ElemStatLearn/datasets/SAheart.info.txt) et disponible [là](https://members.loria.fr/FSur/enseignement/apprauto/SAheart.data).\n",
    "\n",
    "Pour cette base de données, vous allez être amené à charger le fichier CSV comme un dataframe Pandas (ils permettent des fonctionnalités proches des dataframes R).\n",
    "\n",
    "Puis chargez et traitez les données par:\n",
    "```` python \n",
    "import pandas as pd\n",
    "dataset=pd.read_csv('SAheart.data')\n",
    "print(dataset.iloc[:3,:]) \n",
    "# On transforme la variable bi-modale en variable qualitative:\n",
    "dataset.iloc[:,5]=dataset.iloc[:,5].map({'Present':1, 'Absent':0}) \n",
    "print(dataset.iloc[:3,:])\n",
    "X_dataset = dataset.values[:,:-1]\n",
    "y_dataset = dataset.values[:,-1]\n",
    "````\n",
    "\n",
    "<br>\n",
    "\n",
    "Dans le cas biclasse, quel serait le score de classification d'un tirage aléatoire?\n"
   ]
  },
  {
   "cell_type": "code",
   "execution_count": 29,
   "metadata": {},
   "outputs": [
    {
     "name": "stdout",
     "output_type": "stream",
     "text": [
      "Moyenne 1-NN 0.9158067582749977\n",
      "Moyenne 3-NN 0.9263330740644715\n",
      "Moyenne logistic regression 0.9508998790078644\n",
      "Moyenne perc 0.8488862241811423\n"
     ]
    }
   ],
   "source": [
    "# breast cancers, votre code ici\n",
    "dataset = datasets.load_breast_cancer()\n",
    "X_dataset = dataset.data\n",
    "y_dataset = dataset.target\n",
    "\n",
    "NN = neighbors.KNeighborsClassifier(n_neighbors=1)    \n",
    "scores_1 = model_selection.cross_val_score(NN, dataset.data, dataset.target, cv=10)\n",
    "print(\"Moyenne 1-NN\", sum(scores_1)/len(scores_1) )\n",
    "\n",
    "NN = neighbors.KNeighborsClassifier(n_neighbors=3)    \n",
    "scores_1 = model_selection.cross_val_score(NN, dataset.data, dataset.target, cv=10)\n",
    "print(\"Moyenne 3-NN\", sum(scores_1)/len(scores_1) )\n",
    "\n",
    "clf = linear_model.LogisticRegression(solver='liblinear')   \n",
    "scores_2 = model_selection.cross_val_score(clf, dataset.data, dataset.target, cv=10)\n",
    "print(\"Moyenne logistic regression\", sum(scores_2)/len(scores_2) )\n",
    "\n",
    "perc = linear_model.Perceptron(max_iter=200)   \n",
    "scores_3 = model_selection.cross_val_score(perc, dataset.data, dataset.target, cv=10)\n",
    "print(\"Moyenne perc\", sum(scores_3)/len(scores_3) )\n",
    "\n",
    "# la régression logistique semble clairement meilleure."
   ]
  },
  {
   "cell_type": "code",
   "execution_count": null,
   "metadata": {},
   "outputs": [],
   "source": [
    "# South African Heart Disease, votre code ici\n"
   ]
  }
 ],
 "metadata": {
  "kernelspec": {
   "display_name": "Python 3",
   "language": "python",
   "name": "python3"
  },
  "language_info": {
   "codemirror_mode": {
    "name": "ipython",
    "version": 3
   },
   "file_extension": ".py",
   "mimetype": "text/x-python",
   "name": "python",
   "nbconvert_exporter": "python",
   "pygments_lexer": "ipython3",
   "version": "3.7.3"
  }
 },
 "nbformat": 4,
 "nbformat_minor": 2
}
